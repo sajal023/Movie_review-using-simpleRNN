{
 "cells": [
  {
   "cell_type": "code",
   "execution_count": 7,
   "metadata": {},
   "outputs": [],
   "source": [
    "import numpy as np\n",
    "import tensorflow as tf\n",
    "from tensorflow.keras.datasets import imdb\n",
    "from tensorflow.keras.preprocessing import sequence\n",
    "from tensorflow.keras.models import load_model"
   ]
  },
  {
   "cell_type": "code",
   "execution_count": 8,
   "metadata": {},
   "outputs": [],
   "source": [
    "#load the IMDB dataset word index\n",
    "word_idx=imdb.get_word_index()\n",
    "rev_word_idx={value: key for key,value in word_idx.items()}"
   ]
  },
  {
   "cell_type": "code",
   "execution_count": 10,
   "metadata": {},
   "outputs": [
    {
     "name": "stderr",
     "output_type": "stream",
     "text": [
      "WARNING:absl:Compiled the loaded model, but the compiled metrics have yet to be built. `model.compile_metrics` will be empty until you train or evaluate the model.\n"
     ]
    },
    {
     "data": {
      "text/html": [
       "<pre style=\"white-space:pre;overflow-x:auto;line-height:normal;font-family:Menlo,'DejaVu Sans Mono',consolas,'Courier New',monospace\"><span style=\"font-weight: bold\">Model: \"sequential_13\"</span>\n",
       "</pre>\n"
      ],
      "text/plain": [
       "\u001b[1mModel: \"sequential_13\"\u001b[0m\n"
      ]
     },
     "metadata": {},
     "output_type": "display_data"
    },
    {
     "data": {
      "text/html": [
       "<pre style=\"white-space:pre;overflow-x:auto;line-height:normal;font-family:Menlo,'DejaVu Sans Mono',consolas,'Courier New',monospace\">┏━━━━━━━━━━━━━━━━━━━━━━━━━━━━━━━━━┳━━━━━━━━━━━━━━━━━━━━━━━━┳━━━━━━━━━━━━━━━┓\n",
       "┃<span style=\"font-weight: bold\"> Layer (type)                    </span>┃<span style=\"font-weight: bold\"> Output Shape           </span>┃<span style=\"font-weight: bold\">       Param # </span>┃\n",
       "┡━━━━━━━━━━━━━━━━━━━━━━━━━━━━━━━━━╇━━━━━━━━━━━━━━━━━━━━━━━━╇━━━━━━━━━━━━━━━┩\n",
       "│ embedding_13 (<span style=\"color: #0087ff; text-decoration-color: #0087ff\">Embedding</span>)        │ (<span style=\"color: #00d7ff; text-decoration-color: #00d7ff\">None</span>, <span style=\"color: #00af00; text-decoration-color: #00af00\">500</span>, <span style=\"color: #00af00; text-decoration-color: #00af00\">128</span>)       │     <span style=\"color: #00af00; text-decoration-color: #00af00\">1,280,000</span> │\n",
       "├─────────────────────────────────┼────────────────────────┼───────────────┤\n",
       "│ simple_rnn_11 (<span style=\"color: #0087ff; text-decoration-color: #0087ff\">SimpleRNN</span>)       │ (<span style=\"color: #00d7ff; text-decoration-color: #00d7ff\">None</span>, <span style=\"color: #00af00; text-decoration-color: #00af00\">128</span>)            │        <span style=\"color: #00af00; text-decoration-color: #00af00\">32,896</span> │\n",
       "├─────────────────────────────────┼────────────────────────┼───────────────┤\n",
       "│ dense_11 (<span style=\"color: #0087ff; text-decoration-color: #0087ff\">Dense</span>)                │ (<span style=\"color: #00d7ff; text-decoration-color: #00d7ff\">None</span>, <span style=\"color: #00af00; text-decoration-color: #00af00\">1</span>)              │           <span style=\"color: #00af00; text-decoration-color: #00af00\">129</span> │\n",
       "└─────────────────────────────────┴────────────────────────┴───────────────┘\n",
       "</pre>\n"
      ],
      "text/plain": [
       "┏━━━━━━━━━━━━━━━━━━━━━━━━━━━━━━━━━┳━━━━━━━━━━━━━━━━━━━━━━━━┳━━━━━━━━━━━━━━━┓\n",
       "┃\u001b[1m \u001b[0m\u001b[1mLayer (type)                   \u001b[0m\u001b[1m \u001b[0m┃\u001b[1m \u001b[0m\u001b[1mOutput Shape          \u001b[0m\u001b[1m \u001b[0m┃\u001b[1m \u001b[0m\u001b[1m      Param #\u001b[0m\u001b[1m \u001b[0m┃\n",
       "┡━━━━━━━━━━━━━━━━━━━━━━━━━━━━━━━━━╇━━━━━━━━━━━━━━━━━━━━━━━━╇━━━━━━━━━━━━━━━┩\n",
       "│ embedding_13 (\u001b[38;5;33mEmbedding\u001b[0m)        │ (\u001b[38;5;45mNone\u001b[0m, \u001b[38;5;34m500\u001b[0m, \u001b[38;5;34m128\u001b[0m)       │     \u001b[38;5;34m1,280,000\u001b[0m │\n",
       "├─────────────────────────────────┼────────────────────────┼───────────────┤\n",
       "│ simple_rnn_11 (\u001b[38;5;33mSimpleRNN\u001b[0m)       │ (\u001b[38;5;45mNone\u001b[0m, \u001b[38;5;34m128\u001b[0m)            │        \u001b[38;5;34m32,896\u001b[0m │\n",
       "├─────────────────────────────────┼────────────────────────┼───────────────┤\n",
       "│ dense_11 (\u001b[38;5;33mDense\u001b[0m)                │ (\u001b[38;5;45mNone\u001b[0m, \u001b[38;5;34m1\u001b[0m)              │           \u001b[38;5;34m129\u001b[0m │\n",
       "└─────────────────────────────────┴────────────────────────┴───────────────┘\n"
      ]
     },
     "metadata": {},
     "output_type": "display_data"
    },
    {
     "data": {
      "text/html": [
       "<pre style=\"white-space:pre;overflow-x:auto;line-height:normal;font-family:Menlo,'DejaVu Sans Mono',consolas,'Courier New',monospace\"><span style=\"font-weight: bold\"> Total params: </span><span style=\"color: #00af00; text-decoration-color: #00af00\">1,313,027</span> (5.01 MB)\n",
       "</pre>\n"
      ],
      "text/plain": [
       "\u001b[1m Total params: \u001b[0m\u001b[38;5;34m1,313,027\u001b[0m (5.01 MB)\n"
      ]
     },
     "metadata": {},
     "output_type": "display_data"
    },
    {
     "data": {
      "text/html": [
       "<pre style=\"white-space:pre;overflow-x:auto;line-height:normal;font-family:Menlo,'DejaVu Sans Mono',consolas,'Courier New',monospace\"><span style=\"font-weight: bold\"> Trainable params: </span><span style=\"color: #00af00; text-decoration-color: #00af00\">1,313,025</span> (5.01 MB)\n",
       "</pre>\n"
      ],
      "text/plain": [
       "\u001b[1m Trainable params: \u001b[0m\u001b[38;5;34m1,313,025\u001b[0m (5.01 MB)\n"
      ]
     },
     "metadata": {},
     "output_type": "display_data"
    },
    {
     "data": {
      "text/html": [
       "<pre style=\"white-space:pre;overflow-x:auto;line-height:normal;font-family:Menlo,'DejaVu Sans Mono',consolas,'Courier New',monospace\"><span style=\"font-weight: bold\"> Non-trainable params: </span><span style=\"color: #00af00; text-decoration-color: #00af00\">0</span> (0.00 B)\n",
       "</pre>\n"
      ],
      "text/plain": [
       "\u001b[1m Non-trainable params: \u001b[0m\u001b[38;5;34m0\u001b[0m (0.00 B)\n"
      ]
     },
     "metadata": {},
     "output_type": "display_data"
    },
    {
     "data": {
      "text/html": [
       "<pre style=\"white-space:pre;overflow-x:auto;line-height:normal;font-family:Menlo,'DejaVu Sans Mono',consolas,'Courier New',monospace\"><span style=\"font-weight: bold\"> Optimizer params: </span><span style=\"color: #00af00; text-decoration-color: #00af00\">2</span> (12.00 B)\n",
       "</pre>\n"
      ],
      "text/plain": [
       "\u001b[1m Optimizer params: \u001b[0m\u001b[38;5;34m2\u001b[0m (12.00 B)\n"
      ]
     },
     "metadata": {},
     "output_type": "display_data"
    }
   ],
   "source": [
    "model=load_model('simple_rnn_imdb.h5')\n",
    "model.summary()"
   ]
  },
  {
   "cell_type": "code",
   "execution_count": 11,
   "metadata": {},
   "outputs": [
    {
     "data": {
      "text/plain": [
       "[array([[-2.2973935e-01, -7.5177199e-01,  3.2153371e-01, ...,\n",
       "         -3.9115176e-01, -2.0116630e-01,  1.4811184e-01],\n",
       "        [ 8.7371551e-02,  2.8377615e-03,  4.5511886e-02, ...,\n",
       "          9.7792856e-02,  6.4209171e-02,  7.4291907e-02],\n",
       "        [ 1.7342912e-01, -3.0187221e-02,  8.3863549e-02, ...,\n",
       "          1.4214478e-01,  1.3148320e-01,  1.3042153e-01],\n",
       "        ...,\n",
       "        [ 6.2432084e-03, -1.0957256e-05,  5.1350728e-02, ...,\n",
       "         -6.7446448e-02, -5.8055329e-03, -5.0793950e-02],\n",
       "        [-3.6857851e-02,  2.0843947e-02,  3.9691874e-03, ...,\n",
       "         -1.0205571e-02, -3.8643029e-02, -9.2067406e-02],\n",
       "        [ 7.9621509e-02,  9.8273136e-02,  4.8135832e-02, ...,\n",
       "          3.2742225e-02,  7.6345138e-02,  1.6494133e-02]], dtype=float32),\n",
       " array([[-0.03132042, -0.0845872 ,  0.10031894, ..., -0.13004719,\n",
       "         -0.135074  ,  0.11872507],\n",
       "        [-0.08367145, -0.00839962,  0.12572345, ...,  0.1376581 ,\n",
       "         -0.09238152,  0.01411061],\n",
       "        [-0.04984191, -0.01147045, -0.10117777, ..., -0.1120658 ,\n",
       "          0.12856151,  0.07833524],\n",
       "        ...,\n",
       "        [-0.14580579, -0.15711164,  0.15899202, ..., -0.10924534,\n",
       "         -0.21092477,  0.03352877],\n",
       "        [ 0.04817518, -0.12618369,  0.14038455, ..., -0.00860665,\n",
       "         -0.15238434, -0.08168837],\n",
       "        [-0.18196395, -0.11289107, -0.12345941, ..., -0.1430776 ,\n",
       "          0.10538087, -0.02386712]], dtype=float32),\n",
       " array([[-0.04758063,  0.096739  , -0.06982832, ...,  0.08745085,\n",
       "          0.08758465, -0.00599626],\n",
       "        [-0.06886818,  0.2031847 , -0.09715912, ...,  0.0044209 ,\n",
       "         -0.04917077, -0.10269267],\n",
       "        [-0.00177136, -0.08991166, -0.04400761, ..., -0.24052007,\n",
       "          0.12462161, -0.06561166],\n",
       "        ...,\n",
       "        [ 0.04135169, -0.0292734 ,  0.05552037, ...,  0.09681677,\n",
       "         -0.04564801,  0.10466621],\n",
       "        [ 0.16022089,  0.08890647,  0.03247603, ...,  0.01941424,\n",
       "          0.05952528,  0.08983561],\n",
       "        [-0.01387981, -0.10883111,  0.0554486 , ..., -0.0273327 ,\n",
       "         -0.05160731, -0.02047019]], dtype=float32),\n",
       " array([ 0.00032751,  0.00747428,  0.03763433, -0.02544313,  0.00521681,\n",
       "        -0.04229355,  0.03983798, -0.03710245, -0.02433814, -0.0298741 ,\n",
       "         0.01697236, -0.01578386,  0.03386549, -0.04522824, -0.02690382,\n",
       "        -0.03262543, -0.03952903, -0.04400975, -0.07741278,  0.00079397,\n",
       "         0.03239952,  0.01033555, -0.0332743 , -0.020657  , -0.05217122,\n",
       "        -0.03656399, -0.00975868,  0.00559512, -0.01541907,  0.01413332,\n",
       "         0.02667642, -0.02214973, -0.05883011,  0.00775865,  0.02786081,\n",
       "        -0.01339166, -0.03442915, -0.0053549 ,  0.01664795,  0.01381296,\n",
       "         0.01023882,  0.02155789, -0.01794248, -0.03025035,  0.03006103,\n",
       "         0.02143746,  0.02105675, -0.0441953 , -0.03387303, -0.02607036,\n",
       "        -0.03044156,  0.00530663, -0.02934979, -0.01973267, -0.00879152,\n",
       "        -0.01292778, -0.01067745,  0.00373408,  0.02664699, -0.03026478,\n",
       "         0.00844291, -0.01376978,  0.01670435, -0.01762416, -0.00157113,\n",
       "         0.02133984,  0.0090836 ,  0.01724424, -0.02362734,  0.0200843 ,\n",
       "         0.0272917 , -0.00677738,  0.05916062, -0.05110889, -0.04798147,\n",
       "         0.04001299, -0.0363488 , -0.00813782, -0.05975754,  0.02721389,\n",
       "         0.0434075 , -0.0194021 ,  0.03451512, -0.02911669,  0.00314448,\n",
       "         0.00664069, -0.0305583 , -0.00222508, -0.03340703, -0.03024723,\n",
       "        -0.03485288,  0.01173369, -0.00703067, -0.04669837,  0.00915232,\n",
       "         0.01460315,  0.01369142,  0.00770265,  0.01241073, -0.00254748,\n",
       "         0.01067081,  0.00176362, -0.01172894,  0.01858279,  0.02702592,\n",
       "         0.02310073,  0.00842342,  0.02708892,  0.0291172 ,  0.00635802,\n",
       "        -0.04718218, -0.03397842,  0.01677958, -0.02268641,  0.04577289,\n",
       "        -0.01276088,  0.00612163, -0.06452131, -0.04931383,  0.01275191,\n",
       "        -0.03027695,  0.01068765,  0.01231238,  0.01660366,  0.03245816,\n",
       "        -0.00454655, -0.03296662,  0.01733468], dtype=float32),\n",
       " array([[-0.1776737 ],\n",
       "        [-0.06294363],\n",
       "        [ 0.29242295],\n",
       "        [-0.12654372],\n",
       "        [-0.17598496],\n",
       "        [-0.16231526],\n",
       "        [ 0.11912243],\n",
       "        [-0.07392681],\n",
       "        [-0.15666997],\n",
       "        [-0.12565005],\n",
       "        [-0.28538737],\n",
       "        [ 0.20418109],\n",
       "        [ 0.16355044],\n",
       "        [-0.2353298 ],\n",
       "        [-0.12184992],\n",
       "        [-0.30818307],\n",
       "        [-0.07155446],\n",
       "        [ 0.13928814],\n",
       "        [-0.02546808],\n",
       "        [-0.18524924],\n",
       "        [ 0.20368397],\n",
       "        [-0.12383492],\n",
       "        [-0.18125229],\n",
       "        [-0.16101624],\n",
       "        [-0.1344986 ],\n",
       "        [-0.02215542],\n",
       "        [-0.19999653],\n",
       "        [-0.10310781],\n",
       "        [ 0.05373181],\n",
       "        [ 0.1305819 ],\n",
       "        [ 0.11487555],\n",
       "        [-0.22871351],\n",
       "        [ 0.11213002],\n",
       "        [-0.12252952],\n",
       "        [ 0.120203  ],\n",
       "        [ 0.05953655],\n",
       "        [ 0.03347954],\n",
       "        [ 0.12954254],\n",
       "        [ 0.00754631],\n",
       "        [-0.05197061],\n",
       "        [ 0.17996654],\n",
       "        [ 0.16301556],\n",
       "        [ 0.04392132],\n",
       "        [-0.1007373 ],\n",
       "        [ 0.00869268],\n",
       "        [ 0.27036974],\n",
       "        [ 0.01776369],\n",
       "        [-0.16434889],\n",
       "        [-0.08985841],\n",
       "        [-0.06693958],\n",
       "        [ 0.11887304],\n",
       "        [ 0.08024898],\n",
       "        [ 0.15200752],\n",
       "        [ 0.15397206],\n",
       "        [-0.00927816],\n",
       "        [-0.1301028 ],\n",
       "        [-0.22217964],\n",
       "        [ 0.07635895],\n",
       "        [ 0.28714454],\n",
       "        [-0.11237495],\n",
       "        [ 0.19112179],\n",
       "        [ 0.04368642],\n",
       "        [-0.0665611 ],\n",
       "        [-0.51012427],\n",
       "        [ 0.2212575 ],\n",
       "        [ 0.03331944],\n",
       "        [-0.10984531],\n",
       "        [-0.08007034],\n",
       "        [ 0.11422677],\n",
       "        [-0.00349774],\n",
       "        [ 0.21461025],\n",
       "        [ 0.45157313],\n",
       "        [ 0.12888752],\n",
       "        [-0.4036147 ],\n",
       "        [-0.29034135],\n",
       "        [ 0.40086037],\n",
       "        [-0.15384242],\n",
       "        [-0.12334095],\n",
       "        [ 0.11950966],\n",
       "        [-0.09693154],\n",
       "        [-0.8113706 ],\n",
       "        [-0.00836393],\n",
       "        [ 0.04380479],\n",
       "        [-0.08338179],\n",
       "        [-0.12668525],\n",
       "        [-0.10121857],\n",
       "        [-0.0952874 ],\n",
       "        [-0.16412295],\n",
       "        [-0.27599704],\n",
       "        [-0.02025477],\n",
       "        [-0.09072089],\n",
       "        [-0.10862862],\n",
       "        [-0.11487006],\n",
       "        [ 0.18953599],\n",
       "        [ 0.06668599],\n",
       "        [-0.12406188],\n",
       "        [-0.15909381],\n",
       "        [ 0.07868046],\n",
       "        [ 0.24674644],\n",
       "        [-0.9376207 ],\n",
       "        [-0.08242191],\n",
       "        [ 0.2043423 ],\n",
       "        [ 0.01747266],\n",
       "        [ 0.20794605],\n",
       "        [ 0.10302245],\n",
       "        [ 0.13830295],\n",
       "        [ 0.18801615],\n",
       "        [ 0.18846801],\n",
       "        [ 0.1408107 ],\n",
       "        [ 1.0468007 ],\n",
       "        [-0.09396531],\n",
       "        [ 0.12355291],\n",
       "        [-0.0880921 ],\n",
       "        [-0.08598565],\n",
       "        [ 0.59020764],\n",
       "        [ 0.20660383],\n",
       "        [-0.02879451],\n",
       "        [-0.2605361 ],\n",
       "        [ 0.06578227],\n",
       "        [-0.04481372],\n",
       "        [ 0.08332942],\n",
       "        [-0.07358178],\n",
       "        [ 0.07763588],\n",
       "        [ 0.14062147],\n",
       "        [ 0.1646765 ],\n",
       "        [-0.2790947 ],\n",
       "        [-0.03758905],\n",
       "        [ 0.02239059]], dtype=float32),\n",
       " array([-0.74430704], dtype=float32)]"
      ]
     },
     "execution_count": 11,
     "metadata": {},
     "output_type": "execute_result"
    }
   ],
   "source": [
    "model.get_weights()"
   ]
  },
  {
   "cell_type": "code",
   "execution_count": 14,
   "metadata": {},
   "outputs": [],
   "source": [
    "#Helper funciton\n",
    "\n",
    "#funct to decode reviews\n",
    "def decode_review(encoded_review):\n",
    "    return ' '.join([rev_word_idx.get(i-3,'?') for i in encoded_review])\n",
    "\n",
    "#funct to preprocess the user i/p\n",
    "def preprocess_text(text):\n",
    "    words=text.lower().split()\n",
    "    encoded_review=[word_idx.get(word,2)+3 for word in words]\n",
    "    padded_review=sequence.pad_sequences([encoded_review], maxlen=500)\n",
    "    return padded_review"
   ]
  },
  {
   "cell_type": "code",
   "execution_count": 15,
   "metadata": {},
   "outputs": [],
   "source": [
    "## Prediction function\n",
    "def predict_sentiment(review):\n",
    "    preprocessed_input=preprocess_text(review)\n",
    "    prediction=model.predict(preprocessed_input)\n",
    "    sentiment='Positive' if prediction[0][0]>0.5 else 'Negative'\n",
    "    return sentiment, prediction[0][0]"
   ]
  },
  {
   "cell_type": "code",
   "execution_count": 17,
   "metadata": {},
   "outputs": [
    {
     "name": "stdout",
     "output_type": "stream",
     "text": [
      "\u001b[1m1/1\u001b[0m \u001b[32m━━━━━━━━━━━━━━━━━━━━\u001b[0m\u001b[37m\u001b[0m \u001b[1m0s\u001b[0m 41ms/step\n",
      "Example review: This movie was Great! The acting was great and the plot was thrilling\n",
      "Setiment Score: Negative\n",
      "Predicition score: 0.013163081370294094\n"
     ]
    }
   ],
   "source": [
    "#example\n",
    "ex_review=\"This movie was Great! The acting was great and the plot was thrilling\"\n",
    "sentiment,score=predict_sentiment(ex_review)\n",
    "print(f'Example review: {ex_review}')\n",
    "print(f'Setiment Score: {sentiment}')\n",
    "print(f'Predicition score: {score}')"
   ]
  }
 ],
 "metadata": {
  "kernelspec": {
   "display_name": "base",
   "language": "python",
   "name": "python3"
  },
  "language_info": {
   "codemirror_mode": {
    "name": "ipython",
    "version": 3
   },
   "file_extension": ".py",
   "mimetype": "text/x-python",
   "name": "python",
   "nbconvert_exporter": "python",
   "pygments_lexer": "ipython3",
   "version": "3.12.4"
  }
 },
 "nbformat": 4,
 "nbformat_minor": 2
}
